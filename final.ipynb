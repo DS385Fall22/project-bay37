{
 "cells": [
  {
   "cell_type": "markdown",
   "id": "7bfc896d-c013-45dc-b6f2-b12713df3f7f",
   "metadata": {},
   "source": [
    "In this Notebook, I would like to compare Julia and Python, as well as explore some advantages and disadvantages to both.\n",
    "\n",
    "Julia was designed to be a high-performing language, and is used today for numerical and scientific computing. Python on the other hand, while having great tools and resources for scientific computing, is more of a general purpose, and does not do as good on the performance side of things. \n",
    "\n",
    "A key reason for Julia’s high-performance has to do with the fact that it is a compiled-language, the code gets compiled to machine code at run time, rather than using an interpreter like Python.  Julia can be said to have performance that is closer to C, but use a syntax that is similar to Python.\n",
    "\n",
    "\n",
    "Let’s take a look at some Julia code:\n"
   ]
  },
  {
   "cell_type": "code",
   "execution_count": null,
   "id": "5a261dd9-62eb-417a-a062-4f1147041359",
   "metadata": {},
   "outputs": [
    {
     "name": "stdout",
     "output_type": "stream",
     "text": [
      "1000\n",
      "hello, world\n"
     ]
    }
   ],
   "source": [
    "# Like Python, Julia can be dynamiclaly typed:\n",
    "\n",
    "x = 1000\n",
    "println(x)\n",
    "x = \"hello world\"\n",
    "println(s)"
   ]
  },
  {
   "cell_type": "raw",
   "id": "865f271d-54a4-42d3-a674-ab85c25b1f5d",
   "metadata": {},
   "source": [
    "While Julia is dynamically typed, it can also be considered statically typed. "
   ]
  },
  {
   "cell_type": "code",
   "execution_count": 9,
   "id": "4af9750b-764e-4874-b8a1-452188716225",
   "metadata": {},
   "outputs": [
    {
     "name": "stdout",
     "output_type": "stream",
     "text": [
      "1000\n"
     ]
    }
   ],
   "source": [
    "# Types can also be asserted in Julia like so:\n",
    "\n",
    "y::Int = 1000\n",
    "println(y)"
   ]
  },
  {
   "cell_type": "markdown",
   "id": "9ade3c4f-2b59-4455-a03e-ce1f7df636c8",
   "metadata": {},
   "source": [
    "Let's look at a simple fucntion in Julia:\n"
   ]
  },
  {
   "cell_type": "code",
   "execution_count": 17,
   "id": "2df4bbde-99a7-44c7-b9ed-d28cfe169ee1",
   "metadata": {},
   "outputs": [
    {
     "data": {
      "text/plain": [
       "sum (generic function with 1 method)"
      ]
     },
     "execution_count": 17,
     "metadata": {},
     "output_type": "execute_result"
    }
   ],
   "source": [
    "#The syntax for Julia functions are pretty similar to Python. Julia uses \"fucntion\" instead of \"def\" to declare the fucntion:\n",
    "\n",
    "function sum(x, y)\n",
    "   return x + y\n",
    "end"
   ]
  },
  {
   "cell_type": "code",
   "execution_count": 16,
   "id": "2f8e1053-7dc7-4948-b7e6-5b5027427d3c",
   "metadata": {},
   "outputs": [
    {
     "data": {
      "text/plain": [
       "90"
      ]
     },
     "execution_count": 16,
     "metadata": {},
     "output_type": "execute_result"
    }
   ],
   "source": [
    "z = sum(50, 40)"
   ]
  },
  {
   "cell_type": "markdown",
   "id": "e210c42c-822e-429d-8dcb-d4652ac6e73b",
   "metadata": {},
   "source": [
    "Unlike Python, Julia is uses structs with methods declared outside the struct, rather than having Classes."
   ]
  },
  {
   "cell_type": "code",
   "execution_count": 25,
   "id": "2dae9dca-b908-4d42-9c3b-de7e96a543fa",
   "metadata": {},
   "outputs": [],
   "source": [
    "struct Sum\n",
    "    x::Int\n",
    "    y::Int\n",
    "end\n"
   ]
  },
  {
   "cell_type": "code",
   "execution_count": null,
   "id": "eb81a6ad-16fb-4232-8b58-b8b3409b919c",
   "metadata": {},
   "outputs": [],
   "source": []
  },
  {
   "cell_type": "code",
   "execution_count": null,
   "id": "e7786f41-5be9-4425-af94-8b73f95e06dc",
   "metadata": {},
   "outputs": [],
   "source": []
  }
 ],
 "metadata": {
  "kernelspec": {
   "display_name": "Julia 1.8.3",
   "language": "julia",
   "name": "julia-1.8"
  },
  "language_info": {
   "file_extension": ".jl",
   "mimetype": "application/julia",
   "name": "julia",
   "version": "1.8.3"
  }
 },
 "nbformat": 4,
 "nbformat_minor": 5
}
